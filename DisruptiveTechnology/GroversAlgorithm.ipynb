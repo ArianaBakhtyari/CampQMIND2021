{
 "cells": [
  {
   "cell_type": "code",
   "execution_count": 44,
   "id": "67db0e3f",
   "metadata": {},
   "outputs": [
    {
     "name": "stderr",
     "output_type": "stream",
     "text": [
      "ibmqfactory.load_account:WARNING:2021-08-11 20:38:49,883: Credentials are already in use. The existing account in the session will be replaced.\n"
     ]
    }
   ],
   "source": [
    "import numpy as np\n",
    "# Importing standard Qiskit libraries\n",
    "from qiskit import QuantumCircuit, transpile, Aer, IBMQ, assemble, execute, QuantumRegister\n",
    "from qiskit.quantum_info.operators import Operator\n",
    "from qiskit.tools.jupyter import *\n",
    "from qiskit.visualization import *\n",
    "from ibm_quantum_widgets import *\n",
    "\n",
    "# Loading your IBM Quantum account(s)\n",
    "provider = IBMQ.load_account()"
   ]
  },
  {
   "cell_type": "code",
   "execution_count": 52,
   "id": "c2865749",
   "metadata": {},
   "outputs": [],
   "source": [
    "#below is the oracle, the portion of the algorithm that \"flips\" the |w> state and makes its amplitude negative\n",
    "\n",
    "def oracle(nqub):\n",
    "    qc = QuantumCircuit(nqub)\n",
    "    # After initializing the quantum circuit, we have to choose the oralce.\n",
    "    # *** ACTION ITEM ***\n",
    "    # What state are you \"looking\" for and what do you have to do to it? You have to edit this matrix in some way to build an oracle.\n",
    "    cx = Operator([\n",
    "    [1, 0, 0, 0, 0, 0, 0, 0, 0, 0, 0, 0, 0, 0, 0, 0],\n",
    "    [0, 1, 0, 0, 0, 0, 0, 0, 0, 0, 0, 0, 0, 0, 0, 0],\n",
    "    [0, 0, 1, 0, 0, 0, 0, 0, 0, 0, 0, 0, 0, 0, 0, 0],\n",
    "    [0, 0, 0, 1, 0, 0, 0, 0, 0, 0, 0, 0, 0, 0, 0, 0],\n",
    "    [0, 0, 0, 0, 1, 0, 0, 0, 0, 0, 0, 0, 0, 0, 0, 0],\n",
    "    [0, 0, 0, 0, 0, 1, 0, 0, 0, 0, 0, 0, 0, 0, 0, 0],\n",
    "    [0, 0, 0, 0, 0, 0, 1, 0, 0, 0, 0, 0, 0, 0, 0, 0],\n",
    "    [0, 0, 0, 0, 0, 0, 0, 1, 0, 0, 0, 0, 0, 0, 0, 0],\n",
    "    [0, 0, 0, 0, 0, 0, 0, 0, 1, 0, 0, 0, 0, 0, 0, 0],\n",
    "    [0, 0, 0, 0, 0, 0, 0, 0, 0, 1, 0, 0, 0, 0, 0, 0],\n",
    "    [0, 0, 0, 0, 0, 0, 0, 0, 0, 0, 1, 0, 0, 0, 0, 0],\n",
    "    [0, 0, 0, 0, 0, 0, 0, 0, 0, 0, 0, 1, 0, 0, 0, 0],\n",
    "    [0, 0, 0, 0, 0, 0, 0, 0, 0, 0, 0, 0, 1, 0, 0, 0],\n",
    "    [0, 0, 0, 0, 0, 0, 0, 0, 0, 0, 0, 0, 0, 1, 0, 0],\n",
    "    [0, 0, 0, 0, 0, 0, 0, 0, 0, 0, 0, 0, 0, 0, 1, 0],\n",
    "    [0, 0, 0, 0, 0, 0, 0, 0, 0, 0, 0, 0, 0, 0, 0, 1],\n",
    "    ])\n",
    "    qc.unitary(cx, [0, 1, 2, 3], label='cx')\n",
    "    #below is just cleaning it up for drawing the circuits\n",
    "    z_o = qc.to_gate()\n",
    "    z_o.name = \"z$_o$\"\n",
    "    return z_o\n",
    "    \n",
    "def diffuser(nqubits):\n",
    "    list = [1, 2, 3]\n",
    "    qc = QuantumCircuit(nqubits)\n",
    "    # Apply transformation |s> -> |00..0> (H-gates)\n",
    "    for qubit in range(nqubits):\n",
    "        qc.h(qubit)\n",
    "    # Apply transformation |00..0> -> |11..1> (X-gates). How would I repeat the above process with X gates?\n",
    "    # *** ACTION ITEM ***\n",
    "    \n",
    "    # Do multi-controlled-Z gate\n",
    "    qc.h(0)\n",
    "    qc.mct(list, 0)  # multi-controlled-toffoli\n",
    "    qc.h(0)\n",
    "    # Apply transformation |11..1> -> |00..0>\n",
    "    # *** ACTION ITEM ***\n",
    "    # Input the same X gates you wrote above\n",
    "    \n",
    "    # Apply transformation |00..0> -> |s>\n",
    "    for qubit in range(nqubits):\n",
    "        qc.h(qubit)\n",
    "    # We will return the diffuser as a gate\n",
    "    U_s = qc.to_gate()\n",
    "    U_s.name = \"U$_s$\"\n",
    "    return U_s\n",
    "\n",
    "def initialize_s(qc, qubits):\n",
    "    \"\"\"Apply a H-gate to 'qubits' in qc\"\"\"\n",
    "    for q in qubits:\n",
    "        qc.h(q)\n",
    "    return qc"
   ]
  },
  {
   "cell_type": "code",
   "execution_count": 53,
   "id": "25df8e91-a7d5-40df-a2be-ba048e1e12bd",
   "metadata": {},
   "outputs": [],
   "source": [
    "# Ff you want to look at the diffuser uncomment the lines below!\n",
    "# To block comment and uncomment, press the 'CTRL', '+' and '/' keys.\n",
    "\n",
    "# nqubits = 4\n",
    "# list = [1, 2, 3]\n",
    "# qcd = QuantumCircuit(nqubits)\n",
    "# # Apply transformation |s> -> |00..0> (H-gates)\n",
    "# for qubit in range(nqubits):\n",
    "#     qcd.h(qubit)\n",
    "# # Apply transformation |00..0> -> |11..1> (X-gates)\n",
    "# for qubit in range(nqubits):\n",
    "#     qcd.x(qubit)\n",
    "# # Do multi-controlled-Z gate\n",
    "# qcd.h(0)\n",
    "# qcd.mct(list, 0)  # multi-controlled-toffoli\n",
    "# qcd.h(0)\n",
    "# # Apply transformation |11..1> -> |00..0>\n",
    "# for qubit in range(nqubits):\n",
    "#     qcd.x(qubit)\n",
    "# # Apply transformation |00..0> -> |s>\n",
    "# for qubit in range(nqubits):\n",
    "#     qcd.h(qubit)\n",
    "# # We will return the diffuser as a gate\n",
    "# print('Here is the diffuser:')\n",
    "# qcd.draw()"
   ]
  },
  {
   "cell_type": "code",
   "execution_count": 54,
   "id": "318c9d15",
   "metadata": {},
   "outputs": [
    {
     "data": {
      "image/png": "[encoded data removed]",
      "text/plain": [
       "<Figure size 478.079x325.08 with 1 Axes>"
      ]
     },
     "execution_count": 54,
     "metadata": {},
     "output_type": "execute_result"
    }
   ],
   "source": [
    "nqubits = 4\n",
    "grover = QuantumCircuit(nqubits)\n",
    "grover = initialize_s(grover, [0,1,2,3])\n",
    "# *** ACTION ITEM ***\n",
    "# We've initialised the circuit and the cell below and everything is ready to draw, measure and simulate a circuit\n",
    "# The first line for half a grover iteration is done. Can you finish it? How many grover iterations do you need?\n",
    "# What happens if you go past that threshold?\n",
    "\n",
    "grover.append(oracle(nqub), [0,1,2,3])\n",
    "# Add lines here!\n",
    "grover.measure_all()\n",
    "grover.draw()"
   ]
  },
  {
   "cell_type": "code",
   "execution_count": 55,
   "id": "fb146457",
   "metadata": {},
   "outputs": [
    {
     "data": {
      "image/png": "[encoded data removed]",
      "text/plain": [
       "<Figure size 504x360 with 1 Axes>"
      ]
     },
     "execution_count": 55,
     "metadata": {},
     "output_type": "execute_result"
    }
   ],
   "source": [
    "# This code is to transpile and draw the circuit\n",
    "qasm_sim = Aer.get_backend('qasm_simulator')\n",
    "transpiled_grover_circuit = transpile(grover, qasm_sim)\n",
    "qobj = assemble(transpiled_grover_circuit)\n",
    "results = qasm_sim.run(qobj).result()\n",
    "counts = results.get_counts()\n",
    "plot_histogram(counts)"
   ]
  },
  {
   "cell_type": "code",
   "execution_count": 10,
   "id": "29dae152",
   "metadata": {},
   "outputs": [
    {
     "data": {
      "text/plain": [
       "[<IBMQBackend('ibmq_santiago') from IBMQ(hub='ibm-q', group='open', project='main')>,\n",
       " <IBMQBackend('ibmq_bogota') from IBMQ(hub='ibm-q', group='open', project='main')>,\n",
       " <IBMQBackend('ibmq_lima') from IBMQ(hub='ibm-q', group='open', project='main')>,\n",
       " <IBMQBackend('ibmq_belem') from IBMQ(hub='ibm-q', group='open', project='main')>,\n",
       " <IBMQBackend('ibmq_quito') from IBMQ(hub='ibm-q', group='open', project='main')>,\n",
       " <IBMQBackend('ibmq_manila') from IBMQ(hub='ibm-q', group='open', project='main')>]"
      ]
     },
     "execution_count": 10,
     "metadata": {},
     "output_type": "execute_result"
    }
   ],
   "source": [
    "# This block lets you know which IBM computers are ready to be used. In the past I have used athens, santiago, lima and belem\n",
    "# but they should all work.\n",
    "\n",
    "provider.backends(filters=lambda x: x.configuration().n_qubits >= 4\n",
    "                                    and not x.configuration().simulator\n",
    "                                    and x.status().operational==True)"
   ]
  },
  {
   "cell_type": "code",
   "execution_count": 5,
   "id": "0ca37fd7",
   "metadata": {},
   "outputs": [
    {
     "name": "stdout",
     "output_type": "stream",
     "text": [
      "Traceback \u001b[1;36m(most recent call last)\u001b[0m:\n",
      "\u001b[1;36m  File \u001b[1;32m\"<ipython-input-5-c32862f812c1>\"\u001b[1;36m, line \u001b[1;32m1\u001b[1;36m, in \u001b[1;35m<module>\u001b[1;36m\u001b[0m\n",
      "\u001b[1;33m    device = provider.get_backend('ibmq_athens')\u001b[0m\n",
      "\u001b[1;31mNameError\u001b[0m\u001b[1;31m:\u001b[0m name 'provider' is not defined\n",
      "\n",
      "Use %tb to get the full traceback.\n"
     ]
    },
    {
     "data": {
      "text/html": [
       "\n",
       "<style>\n",
       ".button {\n",
       "  border: none;\n",
       "  color: white;\n",
       "  padding: 4px 8px;\n",
       "  text-align: center;\n",
       "  text-decoration: none;\n",
       "  display: inline-block;\n",
       "  font-size: 12px;\n",
       "  margin: 4px 2px;\n",
       "  transition-duration: 0.2s;\n",
       "  cursor: pointer;\n",
       "}\n",
       ".iqx-button {\n",
       "  background-color: #0f62fe; \n",
       "  color: white; \n",
       "}\n",
       ".iqx-button:hover {\n",
       "  background-color: #0043ce;\n",
       "  color: white;\n",
       "}\n",
       "</style>\n",
       "<a href=\"https://stackoverflow.com/search?q=NameError: name 'provider' is not defined\" target='_blank'><button class='button iqx-button'>Search for solution online</button></a>\n"
      ],
      "text/plain": [
       "<IPython.core.display.HTML object>"
      ]
     },
     "metadata": {},
     "output_type": "display_data"
    }
   ],
   "source": [
    "# In the line below, write in whichever machine you've chosen, hit run and wait. Jobs can take a while (1-5 minutes)\n",
    "# *** ACTION ITEM ***\n",
    "device = provider.get_backend('ibmq_athens')\n",
    "from qiskit.tools.monitor import job_monitor\n",
    "transpiled_grover_circuit = transpile(grover, device)\n",
    "#qobj = assemble(transpiled_grover_circuit)\n",
    "job = device.run(transpiled_grover_circuit)\n",
    "#transpiled_grover_circuit.draw()\n",
    "job_monitor(job, interval=2)\n",
    "results = job.result()\n",
    "answer = results.get_counts(grover)\n",
    "plot_histogram(answer)"
   ]
  },
  {
   "cell_type": "code",
   "execution_count": null,
   "id": "6dae6be5-9c73-4a73-b69e-6485c72d0e64",
   "metadata": {},
   "outputs": [],
   "source": []
  }
 ],
 "metadata": {
  "kernelspec": {
   "display_name": "Qiskit v0.29.0",
   "language": "python",
   "name": "python3"
  },
  "language_info": {
   "codemirror_mode": {
    "name": "ipython",
    "version": 3
   },
   "file_extension": ".py",
   "mimetype": "text/x-python",
   "name": "python",
   "nbconvert_exporter": "python",
   "pygments_lexer": "ipython3",
   "version": "3.8.10"
  },
  "widgets": {
   "application/vnd.jupyter.widget-state+json": {
    "state": {},
    "version_major": 2,
    "version_minor": 0
   }
  }
 },
 "nbformat": 4,
 "nbformat_minor": 5
}
