{
 "cells": [
  {
   "cell_type": "markdown",
   "metadata": {},
   "source": [
    "# Quantum Key Distribution Workshop\n",
    "\n",
    "Program to implement a simple Quantum Key Distribution system. Allows for the generation of a secure key using Quantum simulators and has the option of a listener present. Quantum noise can be implemented although no error correction algorithm is included. \n",
    "\n",
    "\n",
    "The code is currently incomplete and requires the Quantum Circuit logic to be written. Follow along with the workshop (or go ahead if you want to try by yourself) and complete the code to create a functioning Quantum Key Distribution system.\n",
    "\n",
    "\n",
    "Camp QMIND 2021\n",
    "\n",
    "Code created by: Spencer Hill"
   ]
  },
  {
   "cell_type": "code",
   "execution_count": null,
   "metadata": {},
   "outputs": [],
   "source": [
    "# Import statements. Ensure that you have qiskit and numpy installed onto your computer before running this code/cell.\n",
    "\n",
    "from qiskit import *\n",
    "from qiskit.visualization import plot_histogram, plot_bloch_multivector\n",
    "from qiskit.providers.aer.noise import NoiseModel\n",
    "from qiskit.providers.aer.noise.errors import pauli_error, depolarizing_error\n",
    "\n",
    "\n",
    "import numpy as np\n",
    "from numpy import random\n",
    "\n",
    "np.random.seed(seed = 0)\n",
    "\n",
    "# Defining the Z and X basis as numerical values (0 and 1)\n",
    "Z = 0\n",
    "X = 1"
   ]
  },
  {
   "cell_type": "code",
   "execution_count": null,
   "metadata": {},
   "outputs": [],
   "source": [
    "# Initialize Quantum simulator\n",
    "def simulate_circuit(qubit, noise_model):\n",
    "    backend = Aer.get_backend('qasm_simulator')\n",
    "    qasm_sim = Aer.get_backend('qasm_simulator')\n",
    "    qobj = assemble(qubit, shots=100, memory=True)\n",
    "    result = qasm_sim.run(qobj, noise_model=noise_model).result()\n",
    "    measured_bit = int(result.get_memory()[0])\n",
    "    return measured_bit"
   ]
  },
  {
   "cell_type": "code",
   "execution_count": null,
   "metadata": {},
   "outputs": [],
   "source": [
    "# Noise function\n",
    "def get_noise(p_meas, p_gate):\n",
    "    error_meas = pauli_error([('X',p_meas), ('I', 1 - p_meas)])\n",
    "    error_gate1 = depolarizing_error(p_gate, 1)\n",
    "    \n",
    "    noise_model = NoiseModel()\n",
    "    noise_model.add_all_qubit_quantum_error(error_meas, \"measure\") # measurement error is applied to measurements\n",
    "    noise_model.add_all_qubit_quantum_error(error_gate1, [\"x\"]) # single qubit gate error is applied to x gates\n",
    "    \n",
    "    return noise_model"
   ]
  },
  {
   "cell_type": "code",
   "execution_count": null,
   "metadata": {},
   "outputs": [],
   "source": [
    "# Function to discard any bits that were measured using different basis\n",
    "def trash_different(message, bases1, bases2):\n",
    "    key = []\n",
    "    for bit, base1, base2 in zip(message, bases1, bases2):\n",
    "        if base1 == base2:\n",
    "            key.append(bit)\n",
    "    return key"
   ]
  },
  {
   "cell_type": "code",
   "execution_count": null,
   "metadata": {},
   "outputs": [],
   "source": [
    "# Function used to encode the bit message in Quantum Circuits\n",
    "def encode_message(bits, basis):\n",
    "    message = []\n",
    "    for bit, base in zip(bits, basis):\n",
    "        qc = encode_qubit(bit, base)\n",
    "        message.append(qc)\n",
    "    return message      "
   ]
  },
  {
   "cell_type": "code",
   "execution_count": null,
   "metadata": {},
   "outputs": [],
   "source": [
    "# Function used to measure the Quantum Bits received by Bob\n",
    "def measure_bits(message, basis, noise_model):\n",
    "    backend = Aer.get_backend('qasm_simulator')\n",
    "    decoded_message = []\n",
    "    for qubit, base in zip(message, basis):\n",
    "        qubit = measure_qubit(qubit, base)\n",
    "        decoded_message.append(simulate_circuit(qubit, noise_model))\n",
    "    return decoded_message        "
   ]
  },
  {
   "cell_type": "code",
   "execution_count": null,
   "metadata": {},
   "outputs": [],
   "source": [
    "# Function to simulate Quanutm Key Distribution between Alice and Bob.\n",
    "# There is an optional listener Eve that can intercept the message. \n",
    "# The number of verify bits has to be less than the number of bits divided by 2.\n",
    "def distribute_key(num_bits, verify_bits, listener=False, noise=0.01):\n",
    "    assert(verify_bits < num_bits / 2)\n",
    "    n = num_bits\n",
    "    noise_model = get_noise(noise, noise)\n",
    "    \n",
    "    alice_bits = random.randint(2, size=n)\n",
    "    alice_bases = random.randint(2, size = n)\n",
    "\n",
    "    message = encode_message(alice_bits, alice_bases)\n",
    "    \n",
    "    if listener:\n",
    "        eve_bases = random.randint(2, size=n)\n",
    "        intercepted_message = measure_bits(message, eve_bases, noise_model)\n",
    "    \n",
    "    bob_bases = random.randint(2, size=n)\n",
    "\n",
    "    decoded = measure_bits(message, bob_bases, noise_model)\n",
    "    alice_key = trash_different(alice_bits, alice_bases, bob_bases)\n",
    "\n",
    "    bob_key = trash_different(decoded, alice_bases, bob_bases)\n",
    "\n",
    "    alice_sample = alice_key[:verify_bits]\n",
    "    bob_sample = bob_key[:verify_bits]\n",
    "\n",
    "    if alice_sample == bob_sample:\n",
    "        key = alice_key[verify_bits:]\n",
    "        print(\"Key Communicated Successfully! The Secret Key has \" + str(len(key)) + \" Bits:\")\n",
    "        string_key = \"\"\n",
    "        for bit in key:\n",
    "            string_key += str(bit)\n",
    "        print(string_key)\n",
    "        return key\n",
    "    else:\n",
    "        print(\"Listener Detected! Key Compromised!\")"
   ]
  },
  {
   "cell_type": "code",
   "execution_count": null,
   "metadata": {},
   "outputs": [],
   "source": [
    "# Parameters entered into the distribute_key function. You can alter these parameters to change different\n",
    "# aspects of the system. \n",
    "\n",
    "# Number of bits initially genearted. For a desired key length of n, this value should be 2*(n+validation_length)\n",
    "bit_length = 100\n",
    "\n",
    "# Number of validation bits used\n",
    "validation_length = 15\n",
    "\n",
    "# Boolean variable for whether an adversarial listener is overseeing your channel\n",
    "listener = False\n",
    "\n",
    "# Noise expressed as a likelihood of inducing error (e.g. 0.01 is 1% of all gate operations will induce an error)\n",
    "noise = 0"
   ]
  },
  {
   "cell_type": "markdown",
   "metadata": {},
   "source": [
    "## Unfinished Portion\n",
    "\n",
    "Below are two incomplete functions needed to encode the qubits with Quantum information and measure their state once received by Bob. Add code defining the gates here to complete the program. \n",
    "\n",
    "Syntatically, the Quantum Circuit q can be modified in the following ways:\n",
    "    - q.x(/qubit number/) to add a Pauli X gate\n",
    "    - q.h(/qubit number/) to add a Hadamard Gate\n",
    "    - q.measure(/qubit number/, /classical bit number/) to measure the value of a qubit\n",
    "    \n",
    "Recall that a Hadamard Gate transforms the qubit between the X and Z basis, while the Pauli X gate switches the amplitude of the states |0> and |1> (or |+> and |->)."
   ]
  },
  {
   "cell_type": "code",
   "execution_count": null,
   "metadata": {},
   "outputs": [],
   "source": [
    "def measure_qubit(q, base):\n",
    "    if base == Z:\n",
    "        # Your code goes here\n",
    "\n",
    "        \n",
    "    else: # if base == X\n",
    "        # Your code goes here\n",
    "\n",
    "        \n",
    "    return q"
   ]
  },
  {
   "cell_type": "code",
   "execution_count": null,
   "metadata": {},
   "outputs": [],
   "source": [
    "def encode_qubit(bit, base):\n",
    "    q = QuantumCircuit(1,1)\n",
    "    if base == Z:\n",
    "        if bit == 1:\n",
    "            # Your code goes here\n",
    "\n",
    "            \n",
    "    else: # if base == X\n",
    "        if bit == 1:\n",
    "            # Your code goes here\n",
    "\n",
    "            \n",
    "        # Your code goes here\n",
    "        \n",
    "        \n",
    "    q.barrier()\n",
    "    return q"
   ]
  },
  {
   "cell_type": "code",
   "execution_count": null,
   "metadata": {},
   "outputs": [],
   "source": [
    "# Run this cell to test the operation of your Quantum Key Distribution system. \n",
    "key = distribute_key(bit_length, validation_length, listener=listener, noise=noise)"
   ]
  }
 ],
 "metadata": {
  "kernelspec": {
   "display_name": "Python 3",
   "language": "python",
   "name": "python3"
  },
  "language_info": {
   "codemirror_mode": {
    "name": "ipython",
    "version": 3
   },
   "file_extension": ".py",
   "mimetype": "text/x-python",
   "name": "python",
   "nbconvert_exporter": "python",
   "pygments_lexer": "ipython3",
   "version": "3.8.3"
  }
 },
 "nbformat": 4,
 "nbformat_minor": 4
}
