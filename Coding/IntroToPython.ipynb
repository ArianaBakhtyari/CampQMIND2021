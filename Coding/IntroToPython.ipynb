{
  "nbformat": 4,
  "nbformat_minor": 2,
  "metadata": {
    "colab": {
      "name": "Copy of CampQMIND-IntroToPython.ipynb",
      "provenance": [],
      "collapsed_sections": [
        "7-WIfW2PpNSx",
        "DXyucau4o35Y"
      ]
    },
    "kernelspec": {
      "name": "python3",
      "display_name": "Python 3"
    },
    "language_info": {
      "name": "python"
    }
  },
  "cells": [
    {
      "cell_type": "markdown",
      "source": [
        "# Introduction to Python\n",
        "### Nathan Kowal for Camp QMIND \n"
      ],
      "metadata": {
        "id": "-XeLVpV9kITJ"
      }
    },
    {
      "cell_type": "markdown",
      "source": [
        "## **Jupyter Notebooks**\n",
        "A jupyter notebook has two types of cells, **code** and **markdown**.\n",
        "\n"
      ],
      "metadata": {
        "id": "iOjEuE0wkKgX"
      }
    },
    {
      "cell_type": "markdown",
      "source": [
        "###Markdown\n",
        "Markdown is useful for documentation, explaining your code to a reader, or making notes to yourself. To edit a markdown cell, double click on the text. Running a markdown cell will give you the formatted output. "
      ],
      "metadata": {
        "id": "7-WIfW2PpNSx"
      }
    },
    {
      "cell_type": "markdown",
      "source": [
        "Some formatting tips that you should know:<br>\n",
        "* Headings are created using the # symbol\n",
        "```\n",
        "#   Heading 1\n",
        "##  Heading 2\n",
        "### Heading 3\n",
        "```\n",
        "* Plain text is done by simply typing your text\n",
        "<br> `Plain text`\n",
        "\n",
        "* *italics*, **bold**, and ***italics and bold*** are done using asterisks before and after words like this\n",
        "<br> `*italics* **bold** ***italics and bold***`\n",
        "\n",
        "* We can create both types of lists,\n",
        "    * Unordered \n",
        "    * lists\n",
        "    1. And \n",
        "    2. ordered \n",
        "    3. lists\n",
        "\n",
        "\n",
        "        * This will create an unorded list\n",
        "        * List item\n",
        "\n",
        "        1. This will create an ordered list\n",
        "        2. List item\n",
        "\n",
        "\n",
        "* Code snippets are typed using ` or by indenting 1 tab\n",
        "        `Code Snippet`\n",
        "\n",
        "* We can also insert images by using `![alt text](img url or path)`\n",
        "![Python (haha)!](https://i.natgeofe.com/n/fa1f75cd-1cbd-419e-a5b3-52eb5c5acb22/burmese-python_16x9.jpg)\n",
        "\n",
        "* And finally, we can insert links, like this helpful one to the official markdown syntax [here](https://www.markdownguide.org/basic-syntax/) by using `[link text](url)` format\n"
      ],
      "metadata": {
        "id": "lL7VRxZuos-f"
      }
    },
    {
      "cell_type": "markdown",
      "source": [
        "###Code cells\n",
        "Code cells are where you actually write your code! To edit a code cell, simply click on it. Running a code cell will give you the results of running the code. "
      ],
      "metadata": {
        "id": "DXyucau4o35Y"
      }
    },
    {
      "cell_type": "code",
      "execution_count": null,
      "source": [
        "print(\"I love learning how to use Jupyter Notebooks!\")"
      ],
      "outputs": [
        {
          "output_type": "stream",
          "name": "stdout",
          "text": [
            "I love learning how to use Jupyter Notebooks!\n"
          ]
        }
      ],
      "metadata": {
        "colab": {
          "base_uri": "https://localhost:8080/"
        },
        "id": "3U2S-SGopDN7",
        "outputId": "c4763280-5e61-4818-8339-a991bf840832"
      }
    },
    {
      "cell_type": "markdown",
      "source": [
        "## **Python**\n",
        "In this section, you will learn the basics of Python! <br><br> While it will cover the key topics, it is impossible to go over everything in Python in just one workshop. Here are some great resources that will help you further your learning:\n",
        "\n",
        "*   https://docs.python-guide.org/intro/learning/ (link to various tutorials)\n",
        "*   https://docs.python.org/3/tutorial/ (official Python tutorial)\n",
        "* https://www.coursera.org/learn/python (**free** coursera course)\n",
        "\n",
        "There are hundreds of fantastic resources, and I encourage you to explore more on your own. \n",
        "\n",
        "\n"
      ],
      "metadata": {
        "id": "G7KbEbYDUBmp"
      }
    },
    {
      "cell_type": "markdown",
      "source": [
        "### Variables, Types, and Objects\n",
        "\n",
        "In Python, every variable is an **object**, and every object has a type. Some of the basic **data types** include:\n",
        "\n",
        "\n",
        "\n",
        "*   **`int`** (Integer value, a whole number)\n",
        "    * `3`\n",
        "    * `12`\n",
        "    * `-4`\n",
        "\n",
        "*   **`float`** (A decimal number)\n",
        "    * `8.0`\n",
        "    * `0.92`\n",
        "    * `94.322`\n",
        "\n",
        "* **`str`** (A string of characters)\n",
        "    * `\"This is a string\"`\n",
        "    * `\"This is also a string\"`\n",
        "\n",
        "* **`bool`** (A boolean, binary value of either true or false)\n",
        "    * `True`\n",
        "    * `False`\n",
        "\n",
        "* **`NoneType`** (The absense of a value)\n",
        "    * `None`\n",
        "\n",
        "\n"
      ],
      "metadata": {
        "id": "8s-nO4xVYeqi"
      }
    },
    {
      "cell_type": "markdown",
      "source": [
        "###Examples!"
      ],
      "metadata": {
        "id": "9B1EoriRrKn8"
      }
    },
    {
      "cell_type": "code",
      "execution_count": null,
      "source": [
        "#Assigning some numbers to some variables\n",
        "num1 = 2\n",
        "num2 = 4\n",
        "print(num1)\n",
        "print(num2)"
      ],
      "outputs": [
        {
          "output_type": "stream",
          "name": "stdout",
          "text": [
            "2\n",
            "4\n"
          ]
        }
      ],
      "metadata": {
        "colab": {
          "base_uri": "https://localhost:8080/"
        },
        "id": "_-7dBarMT6cP",
        "outputId": "d0a4335f-e397-4680-9438-fa264bc42d47"
      }
    },
    {
      "cell_type": "code",
      "execution_count": null,
      "source": [
        "#Addition \n",
        "num1 + num2"
      ],
      "outputs": [
        {
          "output_type": "execute_result",
          "data": {
            "text/plain": [
              "6"
            ]
          },
          "metadata": {},
          "execution_count": 8
        }
      ],
      "metadata": {
        "colab": {
          "base_uri": "https://localhost:8080/"
        },
        "id": "tcHOgmU1qCN6",
        "outputId": "acbaa2e9-099a-4452-d9c6-2ae129579ea7"
      }
    },
    {
      "cell_type": "code",
      "execution_count": null,
      "source": [
        "#Multiplication \n",
        "num1 * num2"
      ],
      "outputs": [
        {
          "output_type": "execute_result",
          "data": {
            "text/plain": [
              "8"
            ]
          },
          "metadata": {},
          "execution_count": 6
        }
      ],
      "metadata": {
        "colab": {
          "base_uri": "https://localhost:8080/"
        },
        "id": "a4Y6PHlBqLGy",
        "outputId": "b28da642-e934-4039-b479-9a3b2b55f31e"
      }
    },
    {
      "cell_type": "code",
      "execution_count": null,
      "source": [
        "#Exponentiation\n",
        "num1 ** num2"
      ],
      "outputs": [
        {
          "output_type": "execute_result",
          "data": {
            "text/plain": [
              "16"
            ]
          },
          "metadata": {},
          "execution_count": 7
        }
      ],
      "metadata": {
        "colab": {
          "base_uri": "https://localhost:8080/"
        },
        "id": "_kmGu_ejqRUZ",
        "outputId": "4d6fef66-9514-4b86-d5b5-785953365f4f"
      }
    },
    {
      "cell_type": "code",
      "execution_count": null,
      "source": [
        "#Incrementing\n",
        "num1 += 3\n",
        "num1"
      ],
      "outputs": [
        {
          "output_type": "execute_result",
          "data": {
            "text/plain": [
              "5"
            ]
          },
          "metadata": {},
          "execution_count": 17
        }
      ],
      "metadata": {
        "colab": {
          "base_uri": "https://localhost:8080/"
        },
        "id": "ESoVJY-PqXvF",
        "outputId": "492be86c-9470-4d58-a207-376d98a98e50"
      }
    },
    {
      "cell_type": "code",
      "execution_count": null,
      "source": [
        "#String-type variables\n",
        "myString = \"Hello \"\n",
        "myString2 = \"World!\" \n",
        "\n",
        "#Adding strings\n",
        "print(myString + myString2)"
      ],
      "outputs": [
        {
          "output_type": "stream",
          "name": "stdout",
          "text": [
            "Hello World!\n"
          ]
        }
      ],
      "metadata": {
        "colab": {
          "base_uri": "https://localhost:8080/"
        },
        "id": "7VIyJzRlrOTw",
        "outputId": "d2bda587-1613-4e34-f838-887bc44fbc46"
      }
    },
    {
      "cell_type": "code",
      "execution_count": null,
      "source": [
        "#But was our original string modified?\n",
        "print(myString)"
      ],
      "outputs": [
        {
          "output_type": "stream",
          "name": "stdout",
          "text": [
            "Hello \n"
          ]
        }
      ],
      "metadata": {
        "colab": {
          "base_uri": "https://localhost:8080/"
        },
        "id": "MODknBrwroNv",
        "outputId": "981ddd86-a99e-4bb2-c422-059075334a21"
      }
    },
    {
      "cell_type": "markdown",
      "source": [
        "### Functions\n",
        "\n",
        "A function is a block of code that is only executed when we *call* it by name. We declare functions using the **def** keyword. For example:  \n",
        "    \n",
        "       def function():\n",
        "          print(\"I am a function\")\n",
        "This can be called by writing `function()` in our code.  \n",
        "\n",
        "Functions can also have **parameters**, which are values that we can use inside of our function  For example:  \n",
        "\n",
        "      def functionWithANumber(num):\n",
        "          print(\"I am a function with the number \" + num + \" passed to me\")\n",
        "\n",
        "This function can be called by writing `functionWithANum(4)` in our code. The value we pass it will change the results. "
      ],
      "metadata": {
        "id": "AKv2RmdMtIzm"
      }
    },
    {
      "cell_type": "code",
      "execution_count": null,
      "source": [
        "#A basic function\n",
        "def myFunction():\n",
        "  print(\"Hey, I'm inside a function\")\n",
        "\n",
        "myFunction()"
      ],
      "outputs": [
        {
          "output_type": "stream",
          "name": "stdout",
          "text": [
            "Hey, I'm inside a function\n"
          ]
        }
      ],
      "metadata": {
        "colab": {
          "base_uri": "https://localhost:8080/"
        },
        "id": "fsAqc_q9uOwS",
        "outputId": "19979d60-9d2a-4bc4-fa9a-b97ba416980f"
      }
    },
    {
      "cell_type": "code",
      "execution_count": null,
      "source": [
        "#A function with some parameters\n",
        "def adder(a, b, c):\n",
        "  print(\"Hey, I'm an adder function\")\n",
        "  print(\"Lets add \" + str(a) + \", \" + str(b) + \", \" + str(c))\n",
        "  return a + b + c\n",
        "\n",
        "result = adder(3, 7, 1)\n",
        "result"
      ],
      "outputs": [
        {
          "output_type": "stream",
          "name": "stdout",
          "text": [
            "Hey, I'm an adder function\n",
            "Lets add 3, 7, 1\n"
          ]
        },
        {
          "output_type": "execute_result",
          "data": {
            "text/plain": [
              "11"
            ]
          },
          "metadata": {},
          "execution_count": 37
        }
      ],
      "metadata": {
        "colab": {
          "base_uri": "https://localhost:8080/"
        },
        "id": "RVGiMEGWuaCs",
        "outputId": "9a485404-aca4-4623-c59a-a58a7db17c66"
      }
    },
    {
      "cell_type": "markdown",
      "source": [
        "### Special Functions\n",
        "\n",
        "Previously, we saw how to define our own functions. Now, we will look at how to use functions that have been created for us. We have already seen one of them in our code!\n",
        "    \n",
        "      print(object(s), sep=separator, end=end, file=file, flush=flush)\n",
        "        \n",
        "Parameters:\n",
        "* `object(s)`: Any object, will be converted to a string before printing. To use more than one, put a comma! \n",
        "* `seperator`: What python will print between objects. Default is a space.\n",
        "* `end`: What to print at the end of the line. Default is `\\n`, the new line character.\n",
        "* `file`: The file to print to. Default is the console.\n",
        "* `flush`: Not important for now.\n",
        "\n",
        "In general, we will **almost always** use print in its most basic context: `print(object1, object2)`.\n",
        "\n",
        "There are many more other predefined functions that will be useful, such as: \n",
        "* `str()` (converts an object to a string)\n",
        "* `abs()` (takes the absolute value of a number) \n",
        "* `len()` (returns the number of items in an object such as an array)\n",
        "\n",
        "You will learn plenty more functions in other workshops and as you get more involved with AI and Machine Learning!"
      ],
      "metadata": {
        "id": "ZCKw8pSNEahW"
      }
    }
  ]
}