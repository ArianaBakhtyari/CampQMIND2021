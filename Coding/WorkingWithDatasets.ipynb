{
 "cells": [
  {
   "cell_type": "code",
   "execution_count": null,
   "metadata": {},
   "outputs": [],
   "source": [
    "import numpy as np #math\n",
    "import pandas as pd #data processing, CSV I/O\n",
    "import seaborn as sns #visualization\n",
    "import matplotlib.pyplot as plt #plotting"
   ]
  },
  {
   "cell_type": "code",
   "execution_count": null,
   "metadata": {},
   "outputs": [],
   "source": [
    "#read in csv file using pandas, the path to your csv should be contained in the ''\n",
    "df = pd.read_csv('student_drinking.csv')"
   ]
  },
  {
   "cell_type": "code",
   "execution_count": null,
   "metadata": {},
   "outputs": [],
   "source": [
    "df.head(10) #show the first 10 values in the dataset"
   ]
  },
  {
   "cell_type": "code",
   "execution_count": null,
   "metadata": {},
   "outputs": [],
   "source": [
    "#find out the number of entries in the dataset\n",
    "len(df)"
   ]
  },
  {
   "cell_type": "code",
   "execution_count": null,
   "metadata": {},
   "outputs": [],
   "source": [
    "#get a list of all of the attributes in this dataset\n",
    "df.columns"
   ]
  },
  {
   "cell_type": "code",
   "execution_count": null,
   "metadata": {},
   "outputs": [],
   "source": [
    "#access the 206th row of data\n",
    "df.loc[246]"
   ]
  },
  {
   "cell_type": "markdown",
   "metadata": {},
   "source": [
    "Before we start to do anything with our data, we should come up with some sort of reasy that we are dealing with  this data. What knowledge do we want to gain from this dataset. Coming up with a question will allow us to clean our dataset and get started with data analysis. I want to find out if alcohol consumption has any effect on grades. "
   ]
  },
  {
   "cell_type": "code",
   "execution_count": null,
   "metadata": {},
   "outputs": [],
   "source": [
    "#start out with step 1, lets fix any duplicates or irrelevant data changes. \n",
    "Dup_Rows = df[df.duplicated()]\n",
    "print(len(Dup_Rows))"
   ]
  },
  {
   "cell_type": "code",
   "execution_count": null,
   "metadata": {},
   "outputs": [],
   "source": [
    "#what are some other pieces of irrelevant data? We can use a correlation matrix to help determine that\n",
    "plt.figure(figsize=(15,15))\n",
    "sns.heatmap(df.corr(),annot = True, cbar = True)\n",
    "plt.xticks(rotation=90)\n",
    "plt.yticks(rotation = 0)"
   ]
  },
  {
   "cell_type": "code",
   "execution_count": null,
   "metadata": {},
   "outputs": [],
   "source": [
    "#We can see that the only real correlations come with Walc and Dalc, and with G1, G2 and G3. \n",
    "#Fixing irrelevant data can also mean joining together relevant data, lets get the average marks of students\n",
    "#so that we are only dealing with a single datapoint per student\n",
    "df['G1'] = (df['G1']+ df['G2']+df['G3'])/3\n",
    "\n",
    "#lets also join the weekend and weekday alcohol into one\n",
    "df['Walc'] = df['Walc']+df['Dalc']\n",
    "\n",
    "#now lets drop the unneeded columns\n",
    "dropCols = ['G2', 'G3', 'Dalc']\n",
    "df.drop(columns = dropCols, inplace = True, axis = 1)"
   ]
  },
  {
   "cell_type": "markdown",
   "metadata": {},
   "source": [
    "I could get rid of some more data I find irrelevant, but since there is only 30 attributes, I think its fine to \n",
    "keep the rest of it since I may want to use it for some different processing later. Moving onto part 2 and 3, lets now try and fix any structural errors in our data. Since this is a popular kaggle dataset, you can be pretty sure that the data is safe, but I can give a couple examples of the many different pandas cleaning techniques."
   ]
  },
  {
   "cell_type": "code",
   "execution_count": null,
   "metadata": {},
   "outputs": [],
   "source": [
    "#if you want to drop any rows that are only NaN values, empty () drops any row with any NaN value\n",
    "df.dropna(how='all')\n",
    "\n",
    "#drop columns that are full of NaN values, use 'any' to drop any column with an NaN in it\n",
    "df.dropna(axis=1, how='all')\n",
    "\n",
    "#fill NaN with something\n",
    "df.fillna(\"N/A\", inplace = True)\n",
    "\n",
    "df['Mjob'].str.upper() #make everything uppercase, .lower() does the same with lowercase\n",
    "df['Mjob'].str.strip() #strip all of the whitespace"
   ]
  },
  {
   "cell_type": "markdown",
   "metadata": {},
   "source": [
    "Part 4 is to filter unwatned outliers, based on what this dataset, there likely isn't much outlying as the values are pretty close together and there isn't much room for extremes, but plotting your data comparatively is definitely a good idea with more time. Now it is time to get some answers to our initial question. Does drinking have anything to do with academic success."
   ]
  },
  {
   "cell_type": "code",
   "execution_count": null,
   "metadata": {},
   "outputs": [],
   "source": [
    "list = []\n",
    "for i in range(11):\n",
    "    list.append(len(df[df.Walc == i]))\n",
    "ax = sns.barplot(x = [0,1,2,3,4,5,6,7,8,9,10], y = list)\n",
    "plt.ylabel('Number of Students')\n",
    "plt.xlabel('Weekly alcohol consumption')"
   ]
  },
  {
   "cell_type": "code",
   "execution_count": null,
   "metadata": {},
   "outputs": [],
   "source": [
    "labels = ['2','3','4','5','6','7','8','9','10']\n",
    "colors = ['lime','blue','orange','cyan','grey','purple','brown','red','darksalmon']\n",
    "explode = [0,0,0,0,0,0,0,0,0]\n",
    "sizes = []\n",
    "for i in range(2,11):\n",
    "    sizes.append(sum(df[df.Walc == i].G1))\n",
    "total_grade = sum(sizes)\n",
    "average = total_grade/float(len(df))\n",
    "plt.pie(sizes,explode=explode,colors=colors,labels=labels,autopct = '%1.1f%%')\n",
    "plt.axis('equal')\n",
    "plt.title('Total grade : '+str(total_grade))\n",
    "plt.xlabel('Students grade distribution according to weekly alcohol consumption')"
   ]
  },
  {
   "cell_type": "code",
   "execution_count": null,
   "metadata": {},
   "outputs": [],
   "source": [
    "len(df)\n",
    "len(df.G1)"
   ]
  },
  {
   "cell_type": "code",
   "execution_count": null,
   "metadata": {},
   "outputs": [],
   "source": [
    "#In order to understand whether alcohol affects students success, I compare grades with average.\n",
    "ave = sum(df.G1)/float(len(df))\n",
    "data['ave_line'] = ave\n",
    "df['average'] = ['above average' if i > ave else 'under average' for i in df.G1]\n",
    "sns.swarmplot(x='Walc', y = 'G1', hue = 'average',data= df,palette={'above average':'lime', 'under average': 'red'})"
   ]
  },
  {
   "cell_type": "code",
   "execution_count": null,
   "metadata": {},
   "outputs": [],
   "source": [
    "list = []\n",
    "for i in range(2,11):\n",
    "    list.append(sum(df[df.Walc == i].G1)/float(len(df[df.Walc == i])))\n",
    "ax = sns.barplot(x = [2,3,4,5,6,7,8,9,10], y = list)\n",
    "plt.ylabel('Average Grades of students')\n",
    "plt.xlabel('Weekly alcohol consumption')"
   ]
  },
  {
   "cell_type": "markdown",
   "metadata": {},
   "source": [
    "Alright, so I guess we haven't really come to a conclusion. It is obvious that most students don't drink profusely throughout the week, and the highest marks come from the ones that drink the least. But the worst marks also come from the students who drink the least. It appears that the amount of drinking that you do has little effect on the marks of these students. But it is important to remember that coming to this conclusion after plotting three graphs with i highly skewed dataset isn't at all a valid finding. This dataset is made up of 400 portugese students who go to an affluent highschool and who live in a place where drinking alcohol is legal at their ages. It would require a lot more work with a lot more data to come to any valid conclusions. I hope you have learned a bit more about working with data, and I would recommend checking out the many datasets on kaggle if you're interested in more!"
   ]
  },
  {
   "cell_type": "code",
   "execution_count": null,
   "metadata": {},
   "outputs": [],
   "source": []
  }
 ],
 "metadata": {
  "kernelspec": {
   "display_name": "Python 3",
   "language": "python",
   "name": "python3"
  },
  "language_info": {
   "codemirror_mode": {
    "name": "ipython",
    "version": 3
   },
   "file_extension": ".py",
   "mimetype": "text/x-python",
   "name": "python",
   "nbconvert_exporter": "python",
   "pygments_lexer": "ipython3",
   "version": "3.8.3"
  }
 },
 "nbformat": 4,
 "nbformat_minor": 4
}
