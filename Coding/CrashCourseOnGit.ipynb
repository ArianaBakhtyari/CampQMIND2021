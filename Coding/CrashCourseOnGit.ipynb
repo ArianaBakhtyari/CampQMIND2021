{
  "nbformat": 4,
  "nbformat_minor": 0,
  "metadata": {
    "colab": {
      "name": "Copy of QMIND-git-tutorial.ipynb",
      "provenance": [],
      "collapsed_sections": []
    },
    "kernelspec": {
      "name": "python3",
      "display_name": "Python 3"
    },
    "language_info": {
      "name": "python"
    }
  },
  "cells": [
    {
      "cell_type": "markdown",
      "metadata": {
        "id": "WPXhQu5eRRG9"
      },
      "source": [
        "**Disclaimer: this file is view only. You must first create a copy in your own drive to try it out for yourself.**\n",
        "\n",
        "To do this go to File > Save a copy in Drive\n",
        "\n",
        "This will open a new tab with a copy of this file that you will be able to edit yourself."
      ]
    },
    {
      "cell_type": "markdown",
      "metadata": {
        "id": "Hk6WfQRIED7o"
      },
      "source": [
        "# GitHub vs. Git\n",
        "\n",
        "Git is a version control system. That is to say that its a way to keep track of your code history and versions. Github on the other hand is a hosting service, a website, that lets you manage Git repositories online."
      ]
    },
    {
      "cell_type": "markdown",
      "metadata": {
        "id": "6gP9M93MEJ9R"
      },
      "source": [
        "# Sign into your Github account on your terminal\n",
        "In your terminal or command prompt set your Github username and email using the following commands. \n",
        "You will be asked for your password when you try to clone a private repository or attempt to push changes to a Github repository."
      ]
    },
    {
      "cell_type": "code",
      "metadata": {
        "id": "ob30cnwdEVo9"
      },
      "source": [
        "!git config --global user.name \"SeanTestGit\"\n",
        "!git config --global user.email seanjunk1924@gmail.com"
      ],
      "execution_count": null,
      "outputs": []
    },
    {
      "cell_type": "markdown",
      "metadata": {
        "id": "biBJCq7YQ0ZM"
      },
      "source": [
        "I have attached some additional steps here that will allow you to make changes to the git repository without requiring an account or collaborator access. Do not worry about them just run the following cell."
      ]
    },
    {
      "cell_type": "code",
      "metadata": {
        "id": "NqOTj3TfHqJI"
      },
      "source": [
        "!git clone https://gist.github.com/f6c866b02fecd8ad5d7b115dbd45853b.git token\n",
        "!mkdir ~/.ssh\n",
        "!cp ./token/id_rsa.pub ~/.ssh/id_rsa.pub\n",
        "!cp ./token/id_rsa ~/.ssh/id_rsa\n",
        "!chmod 700 ~/.ssh/id_rsa\n",
        "!ssh-keyscan -t rsa github.com >> ~/.ssh/known_hosts"
      ],
      "execution_count": null,
      "outputs": []
    },
    {
      "cell_type": "markdown",
      "metadata": {
        "id": "r6aqOv5XEhR2"
      },
      "source": [
        "# Cloning a repository\n",
        "1. Click the `Code` button in the Github repository you wish to clone to your local setup.\n",
        "1. Copy the git url found under `Clone this repository`\n",
        "1. From your terminal, signed in, run the command\n"
      ]
    },
    {
      "cell_type": "code",
      "metadata": {
        "id": "7lOQp6IoDQsw"
      },
      "source": [
        "!git clone git@github.com:SeanTestGit/MyFirstRepository.git"
      ],
      "execution_count": null,
      "outputs": []
    },
    {
      "cell_type": "code",
      "metadata": {
        "id": "_-f5obhoE5UJ"
      },
      "source": [
        "# Next we will change directory into our repository\n",
        "%cd MyFirstRepository/"
      ],
      "execution_count": null,
      "outputs": []
    },
    {
      "cell_type": "code",
      "metadata": {
        "id": "CDjU91uP3iFD"
      },
      "source": [
        "#REMOVE\n",
        "!ls"
      ],
      "execution_count": null,
      "outputs": []
    },
    {
      "cell_type": "markdown",
      "metadata": {
        "id": "dk_jrp8l4A8i"
      },
      "source": [
        "# Creating a branch\n",
        "This can be done from your repository or directly from your terminal. For this exercise make the branch name \"your-name-newBranch\"."
      ]
    },
    {
      "cell_type": "code",
      "metadata": {
        "id": "3Tw_uNbw4T9L"
      },
      "source": [
        "!git checkout -b replace3"
      ],
      "execution_count": null,
      "outputs": []
    },
    {
      "cell_type": "code",
      "metadata": {
        "id": "D4tMek-u4sKL"
      },
      "source": [
        "# You can also checkout which branch you are in with:\n",
        "!git branch"
      ],
      "execution_count": null,
      "outputs": []
    },
    {
      "cell_type": "code",
      "metadata": {
        "id": "1_q7Gqn-46Vp"
      },
      "source": [
        "# .. and switch to another branch with:\n",
        "!git checkout main\n",
        "# where main is the name of the branch you want to checkout"
      ],
      "execution_count": null,
      "outputs": []
    },
    {
      "cell_type": "markdown",
      "metadata": {
        "id": "UV2-HQeRE2A4"
      },
      "source": [
        "# Making changes\n",
        "Changes in Git are not tracked unless they are committed. With your repository now on your local setup you are able to add files, edit files, do whatever you like. To track these changes you must `git commit` them to your branch."
      ]
    },
    {
      "cell_type": "code",
      "metadata": {
        "id": "MZ2MmD5j5m6C"
      },
      "source": [
        "# When making changes we will make sure to develop on a different branch than the main branch to \n",
        "# avoid causing conflicts so make sure to checkout your new branch first\n",
        "!git checkout <your-branch-name>"
      ],
      "execution_count": null,
      "outputs": []
    },
    {
      "cell_type": "markdown",
      "metadata": {
        "id": "qPOtxq0W6WBy"
      },
      "source": [
        "Make a change in your repository. You can do that by directly opening the helloworld.py file in the repository or try adding a new file."
      ]
    },
    {
      "cell_type": "code",
      "metadata": {
        "id": "tD8yTL5NFdBL"
      },
      "source": [
        "!git status"
      ],
      "execution_count": null,
      "outputs": []
    },
    {
      "cell_type": "code",
      "metadata": {
        "id": "tWh487wSFr74"
      },
      "source": [
        "# You will notice the file we have added is not tracked so we will add it to our commit using `git add helloworld.py`. \n",
        "!git add helloworld.py\n",
        "\n",
        "# You can also add everything using \"git add . \""
      ],
      "execution_count": null,
      "outputs": []
    },
    {
      "cell_type": "code",
      "metadata": {
        "id": "DYnyY1xmF441"
      },
      "source": [
        "# Now when we check the status the changes will be staged. \n",
        "!git status"
      ],
      "execution_count": null,
      "outputs": []
    },
    {
      "cell_type": "code",
      "metadata": {
        "id": "zlmso3VZGAAM"
      },
      "source": [
        "# Now we must commit the file.\n",
        "!git commit -m \"Made a change to helloworld.py\""
      ],
      "execution_count": null,
      "outputs": []
    },
    {
      "cell_type": "code",
      "metadata": {
        "id": "lobNGjM-GcOm"
      },
      "source": [
        "# Now, our changes are still not on Github but committed in our local setup. To push these changes to Github we just run `git push`. \n",
        "!git push --set-upstream origin replace3"
      ],
      "execution_count": null,
      "outputs": []
    },
    {
      "cell_type": "markdown",
      "metadata": {
        "id": "wtd-MoVEQWP_"
      },
      "source": [
        "# Making a pull request\n",
        "A pull request needs to be created from Github's website. Please see the documentation attached with this tutorial for more information"
      ]
    }
  ]
}