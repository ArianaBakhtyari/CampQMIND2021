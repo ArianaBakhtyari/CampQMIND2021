{
 "cells": [
  {
   "cell_type": "code",
   "execution_count": 2,
   "id": "8279e5b8",
   "metadata": {},
   "outputs": [
    {
     "name": "stdout",
     "output_type": "stream",
     "text": [
      "env: API_KEY=bac17d22c8fb4583974d35ad1f35c80d\n"
     ]
    }
   ],
   "source": [
    "from bs4 import BeautifulSoup as soup  # HTML data structure searcher\n",
    "import pandas as pd # For storing data\n",
    "import requests # REST API requesting library\n",
    "\n",
    "import os\n",
    "# %env API_KEY= set this before recording starts\n",
    "API_KEY = os.environ.get('API_KEY')"
   ]
  },
  {
   "cell_type": "markdown",
   "id": "d78c78c4",
   "metadata": {},
   "source": [
    "# Pre-made Datasets"
   ]
  },
  {
   "cell_type": "markdown",
   "id": "f1ab7c86",
   "metadata": {},
   "source": [
    "Kaggle, a large collection of curated ML datasets and competitions:\n",
    " https://www.kaggle.com/datasets"
   ]
  },
  {
   "cell_type": "markdown",
   "id": "27cc6eee",
   "metadata": {},
   "source": [
    "Google has a dataset search engine:\n",
    " https://datasetsearch.research.google.com/search?query=Coronavirus&docid=L2cvMTFqY2t6bGZoMw%3D%3D"
   ]
  },
  {
   "cell_type": "markdown",
   "id": "8b9ea7de",
   "metadata": {},
   "source": [
    "UCL (and other universities) have public repositories of datasets:\n",
    " https://library-guides.ucl.ac.uk/az.php"
   ]
  },
  {
   "cell_type": "markdown",
   "id": "f117d03f",
   "metadata": {},
   "source": [
    "Governments release a ton of public information about the state of their country:\n",
    " https://fred.stlouisfed.org/"
   ]
  },
  {
   "cell_type": "markdown",
   "id": "eab4fcbe",
   "metadata": {},
   "source": [
    "# APIs"
   ]
  },
  {
   "cell_type": "code",
   "execution_count": 4,
   "id": "783b2e70",
   "metadata": {},
   "outputs": [],
   "source": [
    "from newsapi import NewsApiClient\n",
    "\n",
    "# Init\n",
    "newsapi = NewsApiClient(api_key=API_KEY)"
   ]
  },
  {
   "cell_type": "code",
   "execution_count": 5,
   "id": "cd27e725",
   "metadata": {},
   "outputs": [
    {
     "data": {
      "text/plain": [
       "{'status': 'ok',\n",
       " 'totalResults': 3,\n",
       " 'articles': [{'source': {'id': 'google-news-ca',\n",
       "    'name': 'Google News (Canada)'},\n",
       "   'author': 'Leyland Cecco',\n",
       "   'title': 'Canada election result: Trudeau forecast to win third term after early vote gamble',\n",
       "   'description': 'Trudeau’s ruling Liberal party is expected to win but to remain as a minority government',\n",
       "   'url': 'https://amp.theguardian.com/world/2021/sep/21/canada-election-result-trudeau-forecast-to-win-third-term-after-early-vote-gamble',\n",
       "   'urlToImage': 'https://i.guim.co.uk/img/media/7c4580ce8cf89ef8a2d3b2cb38a1a3d4198af852/0_172_5170_3102/master/5170.jpg?width=1200&height=630&quality=85&auto=format&fit=crop&overlay-align=bottom%2Cleft&overlay-width=100p&overlay-base64=L2ltZy9zdGF0aWMvb3ZlcmxheXMvdGctZGVmYXVsdC5wbmc&enable=upscale&s=1f7196814b4e1a30e17f9f33838c33e2',\n",
       "   'publishedAt': '2021-09-21T03:06:54+00:00',\n",
       "   'content': 'Justin Trudeau will win a third term as Canadas prime minister, according to multiple national media outlets, with his Liberal party set to remain the biggest group in parliament.\\r\\nHowever, with resu… [+2160 chars]'},\n",
       "  {'source': {'id': 'google-news-ca', 'name': 'Google News (Canada)'},\n",
       "   'author': 'CTVNewsRegina.ca',\n",
       "   'title': 'Live: Federal election results for Saskatchewan',\n",
       "   'description': 'Follow this page for updates from our CTV News Saskatchewan reporters across the province.',\n",
       "   'url': 'https://regina.ctvnews.ca/live-federal-election-results-for-saskatchewan-1.5593322',\n",
       "   'urlToImage': 'https://www.ctvnews.ca/polopoly_fs/1.5584378.1631590467!/httpImage/image.jpg_gen/derivatives/landscape_620/image.jpg',\n",
       "   'publishedAt': '2021-09-21T01:05:19+00:00',\n",
       "   'content': 'REGINA -- \\r\\nThe CTV News Saskatchewan team is keeping an eye on ridings in the province this election night.\\r\\nFollow this page for updates from our CTV News Saskatchewan reporters across the province… [+1633 chars]'},\n",
       "  {'source': {'id': 'google-news-ca', 'name': 'Google News (Canada)'},\n",
       "   'author': 'Ted Raymond',\n",
       "   'title': \"Eastern Ontario Green Party candidate withdraws night before election following 'unacceptable' comments\",\n",
       "   'description': 'The Green Party riding association for Renfrew—Nipissing—Pembroke says their candidate, Michael Lariviere, has withdrawn his candidacy following comments at a local debate.',\n",
       "   'url': 'https://ottawa.ctvnews.ca/eastern-ontario-green-party-candidate-withdraws-night-before-election-following-unacceptable-comments-1.5592379',\n",
       "   'urlToImage': 'https://www.ctvnews.ca/polopoly_fs/1.4583211.1571432797!/httpImage/image.jpg_gen/derivatives/landscape_620/image.jpg',\n",
       "   'publishedAt': '2021-09-20T14:47:04+00:00',\n",
       "   'content': 'OTTAWA -- \\r\\nThe Green Party riding association for RenfrewNipissingPembroke says their candidate, Michael Lariviere, has withdrawn his candidacy following comments at a local debate.\\r\\nLariviere compa… [+2106 chars]'}]}"
      ]
     },
     "execution_count": 5,
     "metadata": {},
     "output_type": "execute_result"
    }
   ],
   "source": [
    "# /v2/top-headlines\n",
    "top_headlines = newsapi.get_top_headlines(q='election',\n",
    "                                          sources='google-news-ca',\n",
    "                                          language='en')\n",
    "top_headlines"
   ]
  },
  {
   "cell_type": "code",
   "execution_count": null,
   "id": "4109c8df",
   "metadata": {},
   "outputs": [],
   "source": [
    "# /v2/everything\n",
    "all_articles = newsapi.get_everything(q='canada',\n",
    "                                      sources='google-news-ca',\n",
    "                                      from_param='2021-09-05',\n",
    "                                      to='2021-09-19',\n",
    "                                      language='en',\n",
    "                                      sort_by='relevancy',\n",
    "                                      page=2)\n",
    "all_articles"
   ]
  },
  {
   "cell_type": "code",
   "execution_count": null,
   "id": "7938cae2",
   "metadata": {},
   "outputs": [],
   "source": [
    "# /v2/top-headlines/sources\n",
    "sources = newsapi.get_sources()\n",
    "\n",
    "sources"
   ]
  },
  {
   "cell_type": "code",
   "execution_count": null,
   "id": "76638f8c",
   "metadata": {},
   "outputs": [],
   "source": [
    "articles = requests.get('https://newsapi.org/v2/top-headlines?country=ca&apiKey=bac17d22c8fb4583974d35ad1f35c80d')\n",
    "articles.text"
   ]
  },
  {
   "cell_type": "code",
   "execution_count": null,
   "id": "2f3c6740",
   "metadata": {},
   "outputs": [],
   "source": [
    "# Send data to a \n",
    "with open(\"article_output.txt\", \"w\") as text_file:\n",
    "    text_file.write(articles.text)"
   ]
  },
  {
   "cell_type": "markdown",
   "id": "921142f0",
   "metadata": {},
   "source": [
    "# Web Scraper"
   ]
  },
  {
   "cell_type": "code",
   "execution_count": null,
   "id": "3756119f",
   "metadata": {},
   "outputs": [],
   "source": [
    "# https://forecast.weather.gov/MapClick.php?lat=37.7772&lon=-122.4168\n",
    "page = requests.get(\"https://forecast.weather.gov/MapClick.php?lat=37.7772&lon=-122.4168\")\n",
    "page"
   ]
  },
  {
   "cell_type": "code",
   "execution_count": null,
   "id": "1cc43e9d",
   "metadata": {},
   "outputs": [],
   "source": [
    "soup = soup(page.content, 'html.parser')\n",
    "seven_day = soup.find(id=\"seven-day-forecast\")\n",
    "forecast_items = seven_day.find_all(class_=\"tombstone-container\")\n",
    "tonight = forecast_items[0]\n",
    "print(tonight.prettify())"
   ]
  },
  {
   "cell_type": "code",
   "execution_count": null,
   "id": "e8bf9553",
   "metadata": {},
   "outputs": [],
   "source": [
    "period = tonight.find(class_=\"period-name\").get_text()\n",
    "short_desc = tonight.find(class_=\"short-desc\").get_text()\n",
    "temp = tonight.find(class_=\"temp\").get_text()\n",
    "print(period)\n",
    "print(short_desc)\n",
    "print(temp)"
   ]
  },
  {
   "cell_type": "code",
   "execution_count": null,
   "id": "9d9d5dc3",
   "metadata": {},
   "outputs": [],
   "source": [
    "desc = tonight.find(\"img\")['title']\n",
    "desc"
   ]
  },
  {
   "cell_type": "code",
   "execution_count": null,
   "id": "a71ef37b",
   "metadata": {},
   "outputs": [],
   "source": [
    "period_tags = seven_day.select(\".tombstone-container .period-name\")\n",
    "periods = [pt.get_text() for pt in period_tags]\n",
    "periods"
   ]
  },
  {
   "cell_type": "code",
   "execution_count": null,
   "id": "ab0e2bc6",
   "metadata": {},
   "outputs": [],
   "source": [
    "short_descs = [sd.get_text() for sd in seven_day.select(\".tombstone-container .short-desc\")]\n",
    "temps = [t.get_text() for t in seven_day.select(\".tombstone-container .temp\")]\n",
    "descs = [d[\"title\"] for d in seven_day.select(\".tombstone-container img\")]\n",
    "print(short_descs)\n",
    "print(temps)\n",
    "print(descs)"
   ]
  },
  {
   "cell_type": "code",
   "execution_count": null,
   "id": "06fc5a20",
   "metadata": {},
   "outputs": [],
   "source": [
    "weather = pd.DataFrame({\n",
    "    \"period\": periods,\n",
    "    \"short_desc\": short_descs,\n",
    "    \"temp\": temps,\n",
    "    \"desc\":descs\n",
    "})\n",
    "weather\n"
   ]
  },
  {
   "cell_type": "markdown",
   "id": "3a031949",
   "metadata": {},
   "source": [
    "# References"
   ]
  },
  {
   "cell_type": "markdown",
   "id": "1b5e4ef4",
   "metadata": {},
   "source": [
    "https://www.dataquest.io/blog/web-scraping-python-using-beautiful-soup/"
   ]
  },
  {
   "cell_type": "markdown",
   "id": "8e096b40",
   "metadata": {},
   "source": [
    "https://newsapi.org/docs/endpoints/top-headlines"
   ]
  }
 ],
 "metadata": {
  "kernelspec": {
   "display_name": "Python 3 (ipykernel)",
   "language": "python",
   "name": "python3"
  },
  "language_info": {
   "codemirror_mode": {
    "name": "ipython",
    "version": 3
   },
   "file_extension": ".py",
   "mimetype": "text/x-python",
   "name": "python",
   "nbconvert_exporter": "python",
   "pygments_lexer": "ipython3",
   "version": "3.9.6"
  }
 },
 "nbformat": 4,
 "nbformat_minor": 5
}
